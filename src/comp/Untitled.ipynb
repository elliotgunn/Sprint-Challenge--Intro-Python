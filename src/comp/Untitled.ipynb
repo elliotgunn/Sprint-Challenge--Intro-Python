{
 "cells": [
  {
   "cell_type": "code",
   "execution_count": 1,
   "metadata": {},
   "outputs": [],
   "source": [
    "# The following list comprehension exercises will make use of the \n",
    "# defined Human class. \n",
    "class Human:\n",
    "    def __init__(self, name, age):\n",
    "        self.name = name\n",
    "        self.age = age\n",
    "\n",
    "    def __repr__(self):\n",
    "        return f\"<Human: {self.name}, {self.age}>\"\n",
    "\n",
    "humans = [\n",
    "    Human(\"Alice\", 29),\n",
    "    Human(\"Bob\", 32),\n",
    "    Human(\"Charlie\", 37),\n",
    "    Human(\"Daphne\", 30),\n",
    "    Human(\"Eve\", 26),\n",
    "    Human(\"Frank\", 18),\n",
    "    Human(\"Glenn\", 42),\n",
    "    Human(\"Harrison\", 12),\n",
    "    Human(\"Igon\", 41),\n",
    "    Human(\"David\", 31),\n",
    "]"
   ]
  },
  {
   "cell_type": "code",
   "execution_count": 36,
   "metadata": {},
   "outputs": [
    {
     "name": "stdout",
     "output_type": "stream",
     "text": [
      "Starts with D:\n",
      "['Daphne', 'David']\n",
      "Ends with e:\n",
      "['Alice', 'Charlie', 'Daphne', 'Eve']\n",
      "Starts between C and G, inclusive:\n",
      "['Charlie', 'Daphne', 'Eve', 'Frank', 'Glenn', 'David']\n",
      "Ages plus 10:\n",
      "[39, 42, 47, 40, 36, 28, 52, 22, 51, 41]\n",
      "Name hyphen age:\n",
      "['Alice-29', 'Bob-32', 'Charlie-37', 'Daphne-30', 'Eve-26', 'Frank-18', 'Glenn-42', 'Harrison-12', 'Igon-41', 'David-31']\n",
      "Names and ages between 27 and 32:\n",
      "['(Alice, 29)', '(Bob, 32)', '(Daphne, 30)', '(David, 31)']\n",
      "All names uppercase:\n",
      "['(ALICE, 34)', '(BOB, 37)', '(CHARLIE, 42)', '(DAPHNE, 35)', '(EVE, 31)', '(FRANK, 23)', '(GLENN, 47)', '(HARRISON, 17)', '(IGON, 46)', '(DAVID, 36)']\n",
      "Square root of ages:\n",
      "[5.385164807134504, 5.656854249492381, 6.082762530298219, 5.477225575051661, 5.0990195135927845, 4.242640687119285, 6.48074069840786, 3.4641016151377544, 6.4031242374328485, 5.5677643628300215]\n"
     ]
    }
   ],
   "source": [
    "# Write a list comprehension that creates a list of names of everyone\n",
    "# whose name starts with 'D':\n",
    "print(\"Starts with D:\")\n",
    "a = [n.name for n in humans if n.name[0] == \"D\"]\n",
    "print(a)\n",
    "\n",
    "# Write a list comprehension that creates a list of names of everyone\n",
    "# whose name ends in \"e\".\n",
    "print(\"Ends with e:\")\n",
    "b = [n.name for n in humans if n.name[-1] == \"e\"]\n",
    "print(b)\n",
    "\n",
    "# Write a list comprehension that creates a list of names of everyone\n",
    "# whose name starts with any letter between 'C' and 'G' inclusive.\n",
    "print(\"Starts between C and G, inclusive:\")\n",
    "c = [n.name for n in humans if n.name[0] >= \"C\" and n.name[0] <= \"G\"]\n",
    "print(c)\n",
    "\n",
    "# Write a list comprehension that creates a list of all the ages plus 10.\n",
    "print(\"Ages plus 10:\")\n",
    "d = [person.age +10 for person in humans]\n",
    "print(d)\n",
    "\n",
    "# Write a list comprehension that creates a list of strings which are the name\n",
    "# joined to the age with a hyphen, for example \"David-31\", for all humans.\n",
    "print(\"Name hyphen age:\")\n",
    "e = [f\"{person.name}-{person.age}\" for person in humans]\n",
    "print(e)\n",
    "\n",
    "# Write a list comprehension that creates a list of tuples containing name and\n",
    "# age, for example (\"David\", 31), for everyone between the ages of 27 and 32,\n",
    "# inclusive.\n",
    "print(\"Names and ages between 27 and 32:\")\n",
    "f = [f\"({person.name}, {person.age})\" for person in humans if person.age >=27 and person.age <=32]\n",
    "print(f)\n",
    "\n",
    "# Write a list comprehension that creates a list of new Humans like the old\n",
    "# list, except with all the names uppercase and the ages with 5 added to them.\n",
    "# The \"humans\" list should be unmodified.\n",
    "print(\"All names uppercase:\")\n",
    "g = [f\"({person.name.upper()}, {person.age+5})\" for person in humans]\n",
    "print(g)\n",
    "\n",
    "# Write a list comprehension that contains the square root of all the ages.\n",
    "print(\"Square root of ages:\")\n",
    "import math\n",
    "h = [math.sqrt(person.age) for person in humans]\n",
    "print(h)"
   ]
  }
 ],
 "metadata": {
  "kernelspec": {
   "display_name": "Python 3",
   "language": "python",
   "name": "python3"
  },
  "language_info": {
   "codemirror_mode": {
    "name": "ipython",
    "version": 3
   },
   "file_extension": ".py",
   "mimetype": "text/x-python",
   "name": "python",
   "nbconvert_exporter": "python",
   "pygments_lexer": "ipython3",
   "version": "3.7.4"
  }
 },
 "nbformat": 4,
 "nbformat_minor": 2
}
